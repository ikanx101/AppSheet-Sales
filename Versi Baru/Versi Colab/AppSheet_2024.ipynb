{
  "cells": [
    {
      "cell_type": "markdown",
      "metadata": {
        "id": "view-in-github",
        "colab_type": "text"
      },
      "source": [
        "<a href=\"https://colab.research.google.com/github/ikanx101/AppSheet-Sales/blob/main/AppSheet_2024.ipynb\" target=\"_parent\"><img src=\"https://colab.research.google.com/assets/colab-badge.svg\" alt=\"Open In Colab\"/></a>"
      ]
    },
    {
      "cell_type": "markdown",
      "metadata": {
        "id": "VdFqFv39znIR"
      },
      "source": [
        "# _AppSheet Converter_ 2024\n",
        "\n",
        "_Converter_ ini dibuat untuk mengubah data hasil _input_ __AppSheet__ ke bentuk tabular yang lebih _excel-user-friendly_.\n",
        "\n",
        "Cara pakai:\n",
        "\n",
        "1. _Upload_ dua _files_ yang dibutuhkan, yakni:\n",
        "    - Data __AppSheet__.\n",
        "    - Data _pricelist_.\n",
        "1. Isi _form_ sesuai dengan nama _files_ tersebut.\n",
        "1. Klik `Runtime` >> `Run all`.\n",
        "1. Tunggu hingga proses selesai (sampai muncul pesan `PROSES SELESAI`). Kira-kira akan memakan waktu 5-10 menit.\n",
        "1. Akan muncul dua _files_ baru bernama `Omzet_converted.xlsx` dan `AV_converted.xlsx`. Silakan di-_download_.\n",
        "\n",
        "---\n",
        "\n",
        "Catatan: Karena yang kita gunakan saat ini adalah _server_ gratisnya Google, jadi kita harus selalu _install_ beberapa _packages_ setiap kali _run_ skrip ini. Konsekuensinya _runtime_-nya lebih lama.\n",
        "\n",
        "_Last Update_: 7 Februari 2024"
      ]
    },
    {
      "cell_type": "code",
      "execution_count": null,
      "metadata": {
        "colab": {
          "base_uri": "https://localhost:8080/"
        },
        "id": "8BIIGP7lzHsE",
        "outputId": "68955813-c7ab-438e-cd1a-26fa9e658ca0"
      },
      "outputs": [
        {
          "output_type": "stream",
          "name": "stderr",
          "text": [
            "Installing package into ‘/usr/local/lib/R/site-library’\n",
            "(as ‘lib’ is unspecified)\n",
            "\n",
            "Installing package into ‘/usr/local/lib/R/site-library’\n",
            "(as ‘lib’ is unspecified)\n",
            "\n",
            "Installing package into ‘/usr/local/lib/R/site-library’\n",
            "(as ‘lib’ is unspecified)\n",
            "\n"
          ]
        }
      ],
      "source": [
        "#@title Masukkan Nama Files\n",
        "\n",
        "rm(list=ls())\n",
        "nama_file_appsheet <- \"Call.xlsx\" #@param {type:\"string\"}\n",
        "nama_file_pricelist <- \"Template Harga.xlsx\" #@param {type:\"string\"}\n",
        "\n",
        "install.packages(\"reshape2\")\n",
        "install.packages(\"janitor\")\n",
        "install.packages(\"openxlsx\")"
      ]
    },
    {
      "cell_type": "code",
      "execution_count": null,
      "metadata": {
        "id": "SS-EEdra0bjG",
        "colab": {
          "base_uri": "https://localhost:8080/"
        },
        "outputId": "afa0211b-2e64-4f19-b08a-8442726d4c93"
      },
      "outputs": [
        {
          "output_type": "stream",
          "name": "stderr",
          "text": [
            "\u001b[1m\u001b[22mNew names:\n",
            "\u001b[36m•\u001b[39m `Pg6` -> `Pg6...150`\n",
            "\u001b[36m•\u001b[39m `Pg6` -> `Pg6...203`\n",
            "\u001b[1m\u001b[22mNew names:\n",
            "\u001b[36m•\u001b[39m `Pg6` -> `Pg6...150`\n",
            "\u001b[36m•\u001b[39m `Pg6` -> `Pg6...203`\n"
          ]
        }
      ],
      "source": [
        "# @title\n",
        "# ==============================================================================\n",
        "# libraries yang terlibat\n",
        "library(dplyr)\n",
        "library(tidyr)\n",
        "library(parallel)\n",
        "library(readxl)\n",
        "\n",
        "# menentukan berapa banyak cores yang terlibat\n",
        "n_core = detectCores()\n",
        "\n",
        "# si warna merah yang tak diperlukan AV\n",
        "# warna_merah = readLines(\"warna merah.txt\") %>% as.numeric()\n",
        "\n",
        "# si warna merah yang tak diperlukan availability\n",
        "# warna_merah_av = readLines(\"warna merah - av.txt\") %>% as.numeric()\n",
        "\n",
        "# function ntuk mengembalikan nama produk\n",
        "benerin = function(tes){\n",
        "  gsub(\"_\",\" \",tes) %>% toupper()\n",
        "  }\n",
        "\n",
        "# function untuk benerin nama kolom\n",
        "nama_judul = function(tes){\n",
        "  benerin(tes) %>% stringr::str_to_title()\n",
        "  }\n",
        "# ==============================================================================\n",
        "\n",
        "\n",
        "# ==============================================================================\n",
        "# baca file harga\n",
        "file_harga = nama_file_pricelist\n",
        "df_harga   =\n",
        "  read_excel(file_harga) %>%\n",
        "  janitor::clean_names() %>%\n",
        "  rename(item_penjualan = nama_item) |>\n",
        "  # ini revisi terbaru\n",
        "  mutate(item_penjualan = janitor::make_clean_names(item_penjualan),\n",
        "         item_penjualan = benerin(item_penjualan))\n",
        "\n",
        "# baca file yang hendak dikonversi\n",
        "file_conv  = nama_file_appsheet\n",
        "df_raw     =\n",
        "  read_excel(file_conv) %>%\n",
        "  janitor::clean_names()\n",
        "\n",
        "# ambil nama kolom untuk omset\n",
        "nama_kolom = colnames(df_raw)\n",
        "# pertengahan pg3 dan pg5 harus kita hapus\n",
        "awal  = which(nama_kolom == \"pg3\")\n",
        "akhir = which(nama_kolom == \"pg_5\")\n",
        "hapus = awal:akhir\n",
        "\n",
        "# ini yang perlu diambil\n",
        "df_raw = df_raw[-hapus]\n",
        "# ==============================================================================\n",
        "\n",
        "\n",
        "# ==============================================================================\n",
        "# tahap 1\n",
        "# kita pisahkan untuk df omset terlebih dahulu\n",
        "selection = c(\"waktu\",\"tanggal\",\"bulan\",\"nama_mds\",\"id_mds\",\"area_mds\",\n",
        "              \"region_mds\",\"pic\",\"kode_customer\",\"nama_customer\",\n",
        "              \"no_hp_customer\",\"kecamatan\",\"kabupaten\",\"provinsi\",\n",
        "              \"detail_klasifikasi\",\"klasifikasi\",\"sekolah\",\n",
        "              \"koordinat_ro\",\"koordinat_call\",\"jarak_meter\",\n",
        "              \"kesesuaian_titik\",\"peserta_display_wow_operator\",\n",
        "              \"peserta_loyalty_sachet\",\"project_1\",\"project_2\",\n",
        "              \"transaksi_penjualan\",\"av_item\",\"check_out\",\"durasi\")\n",
        "\n",
        "# pemisahan pertama\n",
        "df_omset_raw_1 =\n",
        "  df_raw %>%\n",
        "  select(id,contains(selection))\n",
        "# colnames(df_omset_raw_1)\n",
        "\n",
        "# pemisahan kedua\n",
        "# ambil nama kolom untuk omset\n",
        "nama_kolom = colnames(df_raw)\n",
        "# pertengahan pg3 dan pg5 harus kita hapus\n",
        "awal   = which(nama_kolom == \"pg\")\n",
        "akhir  = which(nama_kolom == \"pg_8\")\n",
        "simpan = c(1,awal:akhir)\n",
        "\n",
        "df_omset_raw_2 =\n",
        "  df_raw[simpan] %>%\n",
        "  select(-contains(\"pg\")) %>%\n",
        "  reshape2::melt(id.vars = \"id\") %>%\n",
        "  filter(!is.na(value)) %>%\n",
        "  rename(item_penjualan = variable,\n",
        "         qty_penjualan  = value) %>%\n",
        "  rowwise() %>%\n",
        "  mutate(item_penjualan = benerin(item_penjualan)) %>%\n",
        "  ungroup() %>%\n",
        "  merge(df_harga,by = \"item_penjualan\") %>%\n",
        "  mutate(omzet = harga * qty_penjualan)\n",
        "\n",
        "# kita gabung kembali ke format yang diinginkan\n",
        "df_gabung =\n",
        "  merge(df_omset_raw_1,df_omset_raw_2,by = \"id\") %>%\n",
        "  relocate(brand,sub_brand,harga,.after = \"item_penjualan\") %>%\n",
        "  relocate(av_item,check_out,durasi,.after = \"omzet\") %>%\n",
        "  # ini yang kita hapus\n",
        "  select(-check_out,-durasi)\n",
        "\n",
        "# benerin nama kolom finalnya\n",
        "colnames(df_gabung) = nama_judul(colnames(df_gabung))\n",
        "\n",
        "openxlsx::write.xlsx(df_gabung,file = \"Omzet_converted.xlsx\")\n",
        "# ==============================================================================\n",
        "\n",
        "\n",
        "# ==============================================================================\n",
        "# tahap 2\n",
        "# baca file yang hendak dikonversi\n",
        "df_raw     =\n",
        "  read_excel(file_conv) %>%\n",
        "  janitor::clean_names()\n",
        "\n",
        "# ambil nama kolom untuk av\n",
        "nama_kolom = colnames(df_raw)\n",
        "# pertengahan pg3 dan pg5 harus kita hapus\n",
        "awal     = which(nama_kolom == \"pg3\")\n",
        "akhir    = which(nama_kolom == \"pg_5\")\n",
        "ambil_av = c(1,awal:akhir)\n",
        "\n",
        "# kita lakukan pemecahan kembali\n",
        "# pemecahan 1\n",
        "# pemisahan pertama\n",
        "df_av_raw_1 =\n",
        "  df_raw %>%\n",
        "  select(id,contains(selection))\n",
        "\n",
        "# pemisahan kedua\n",
        "df_av_raw_2 =\n",
        "  df_raw[ambil_av] %>%\n",
        "  reshape2::melt(id.vars = \"id\") %>%\n",
        "  mutate(value = as.numeric(value)) %>%\n",
        "  filter(value > 0) %>%\n",
        "  select(-value) %>%\n",
        "  rename(availability_item = variable) %>%\n",
        "  mutate(availability_item = benerin(availability_item))\n",
        "\n",
        "# kita gabung kembali ke format yang diinginkan\n",
        "df_gabung =\n",
        "  merge(df_av_raw_1,df_av_raw_2,by = \"id\") %>%\n",
        "  relocate(availability_item,.before = \"peserta_display_wow_operator\") %>%\n",
        "  relocate(check_out,durasi,.after = \"project_2\") %>%\n",
        "  # ini yang kita hapus\n",
        "  select(-check_out,-durasi)\n",
        "\n",
        "# benerin nama kolom finalnya\n",
        "colnames(df_gabung) = nama_judul(colnames(df_gabung))\n",
        "\n",
        "openxlsx::write.xlsx(df_gabung,file = \"AV_converted.xlsx\")\n",
        "# =============================================================================="
      ]
    },
    {
      "cell_type": "code",
      "execution_count": null,
      "metadata": {
        "id": "t3ojK2PG0Rsz",
        "colab": {
          "base_uri": "https://localhost:8080/"
        },
        "outputId": "becd398f-3516-4aa5-9869-70ed233ea29e"
      },
      "outputs": [
        {
          "output_type": "stream",
          "name": "stdout",
          "text": [
            "[1] \"PROSES SELESAI\"\n",
            "[1] \"file hasil konversi tersimpan dalam nama: Omzet_converted.xlsx dan AV_converted.xlsx\"\n"
          ]
        }
      ],
      "source": [
        "#@title Status\n",
        "print(\"PROSES SELESAI\")\n",
        "print(\"file hasil konversi tersimpan dalam nama: Omzet_converted.xlsx dan AV_converted.xlsx\")"
      ]
    }
  ],
  "metadata": {
    "colab": {
      "provenance": [],
      "include_colab_link": true
    },
    "kernelspec": {
      "display_name": "R",
      "name": "ir"
    },
    "language_info": {
      "name": "R"
    }
  },
  "nbformat": 4,
  "nbformat_minor": 0
}