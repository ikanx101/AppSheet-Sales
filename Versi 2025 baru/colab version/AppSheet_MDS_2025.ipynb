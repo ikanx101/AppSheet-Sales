{
  "cells": [
    {
      "cell_type": "markdown",
      "metadata": {
        "id": "view-in-github",
        "colab_type": "text"
      },
      "source": [
        "<a href=\"https://colab.research.google.com/github/ikanx101/AppSheet-Sales/blob/main/AppSheet_MDS_2025.ipynb\" target=\"_parent\"><img src=\"https://colab.research.google.com/assets/colab-badge.svg\" alt=\"Open In Colab\"/></a>"
      ]
    },
    {
      "cell_type": "markdown",
      "metadata": {
        "id": "VdFqFv39znIR"
      },
      "source": [
        "# _AppSheet Converter_ 2025 untuk ___MDS___\n",
        "\n",
        "_Converter_ ini dibuat untuk mengubah data hasil _input_ __AppSheet: MDS__ ke bentuk tabular yang lebih _excel-user-friendly_.\n",
        "\n",
        "Cara pakai:\n",
        "\n",
        "1. Klik tombol `Connect` pada pojok kanan atas untuk menyalakan _server cloud Google Colab_.\n",
        "1. _Upload_ _file_ yang dibutuhkan, yakni:\n",
        "    - Data __AppSheet: MDS__.\n",
        "1. Isi _form_ sesuai dengan nama _files_ tersebut dan __nama__ ___sheet___ yang hendak diproses.\n",
        "1. Klik `Runtime` >> `Run all`.\n",
        "1. Tunggu hingga proses selesai (sampai muncul pesan `PROSES SELESAI`). Kira-kira akan memakan waktu 5-10 menit.\n",
        "1. Akan muncul _file_ baru bernama `MDS Converted.xlsx`. Silakan di-_download_.\n",
        "\n",
        "---\n",
        "\n",
        "Catatan: Karena yang kita gunakan saat ini adalah _server_ gratisnya Google, jadi kita harus selalu _install_ beberapa _packages_ setiap kali _run_ skrip ini. Konsekuensinya _runtime_-nya lebih lama.\n",
        "\n",
        "_Last Update_: 7 Maret 2025"
      ]
    },
    {
      "cell_type": "markdown",
      "source": [
        "# New Section"
      ],
      "metadata": {
        "id": "YVGz5p990807"
      }
    },
    {
      "cell_type": "code",
      "execution_count": null,
      "metadata": {
        "colab": {
          "base_uri": "https://localhost:8080/",
          "height": 390
        },
        "id": "8BIIGP7lzHsE",
        "outputId": "aaac1564-3fa1-4037-b3ea-e59fee3102b8",
        "cellView": "form"
      },
      "outputs": [
        {
          "output_type": "display_data",
          "data": {
            "text/html": [
              "<table class=\"dataframe\">\n",
              "<caption>A matrix: 2 × 6 of type dbl</caption>\n",
              "<thead>\n",
              "\t<tr><th></th><th scope=col>used</th><th scope=col>(Mb)</th><th scope=col>gc trigger</th><th scope=col>(Mb)</th><th scope=col>max used</th><th scope=col>(Mb)</th></tr>\n",
              "</thead>\n",
              "<tbody>\n",
              "\t<tr><th scope=row>Ncells</th><td> 658499</td><td>35.2</td><td>1454452</td><td>77.7</td><td>1454452</td><td>77.7</td></tr>\n",
              "\t<tr><th scope=row>Vcells</th><td>1225814</td><td> 9.4</td><td>8388608</td><td>64.0</td><td>1975093</td><td>15.1</td></tr>\n",
              "</tbody>\n",
              "</table>\n"
            ],
            "text/markdown": "\nA matrix: 2 × 6 of type dbl\n\n| <!--/--> | used | (Mb) | gc trigger | (Mb) | max used | (Mb) |\n|---|---|---|---|---|---|---|\n| Ncells |  658499 | 35.2 | 1454452 | 77.7 | 1454452 | 77.7 |\n| Vcells | 1225814 |  9.4 | 8388608 | 64.0 | 1975093 | 15.1 |\n\n",
            "text/latex": "A matrix: 2 × 6 of type dbl\n\\begin{tabular}{r|llllll}\n  & used & (Mb) & gc trigger & (Mb) & max used & (Mb)\\\\\n\\hline\n\tNcells &  658499 & 35.2 & 1454452 & 77.7 & 1454452 & 77.7\\\\\n\tVcells & 1225814 &  9.4 & 8388608 & 64.0 & 1975093 & 15.1\\\\\n\\end{tabular}\n",
            "text/plain": [
              "       used    (Mb) gc trigger (Mb) max used (Mb)\n",
              "Ncells  658499 35.2 1454452    77.7 1454452  77.7\n",
              "Vcells 1225814  9.4 8388608    64.0 1975093  15.1"
            ]
          },
          "metadata": {}
        },
        {
          "output_type": "stream",
          "name": "stderr",
          "text": [
            "Installing package into ‘/usr/local/lib/R/site-library’\n",
            "(as ‘lib’ is unspecified)\n",
            "\n",
            "also installing the dependency ‘plyr’\n",
            "\n",
            "\n",
            "Installing package into ‘/usr/local/lib/R/site-library’\n",
            "(as ‘lib’ is unspecified)\n",
            "\n",
            "also installing the dependency ‘snakecase’\n",
            "\n",
            "\n",
            "Installing package into ‘/usr/local/lib/R/site-library’\n",
            "(as ‘lib’ is unspecified)\n",
            "\n"
          ]
        }
      ],
      "source": [
        "                #@title Masukkan Nama Files\n",
        "\n",
        "rm(list=ls())\n",
        "gc()\n",
        "\n",
        "nama_file_utama <- \"MDS MODERN.xlsx\" #@param {type:\"string\"}\n",
        "nama_sheet <- \"Rekap\" #@param {type:\"string\"}\n",
        "\n",
        "install.packages(\"reshape2\")\n",
        "install.packages(\"janitor\")\n",
        "install.packages(\"openxlsx\")"
      ]
    },
    {
      "cell_type": "code",
      "execution_count": null,
      "metadata": {
        "id": "SS-EEdra0bjG",
        "cellView": "form",
        "colab": {
          "base_uri": "https://localhost:8080/"
        },
        "outputId": "a4e9d597-f9b3-4dbb-9e37-15e9833c0b0d"
      },
      "outputs": [
        {
          "output_type": "stream",
          "name": "stderr",
          "text": [
            "\n",
            "Attaching package: ‘dplyr’\n",
            "\n",
            "\n",
            "The following objects are masked from ‘package:stats’:\n",
            "\n",
            "    filter, lag\n",
            "\n",
            "\n",
            "The following objects are masked from ‘package:base’:\n",
            "\n",
            "    intersect, setdiff, setequal, union\n",
            "\n",
            "\n",
            "\n",
            "Attaching package: ‘janitor’\n",
            "\n",
            "\n",
            "The following objects are masked from ‘package:stats’:\n",
            "\n",
            "    chisq.test, fisher.test\n",
            "\n",
            "\n"
          ]
        }
      ],
      "source": [
        "# @title\n",
        "# libraries yang dibutuhkan\n",
        "library(dplyr)\n",
        "library(tidyr)\n",
        "library(openxlsx)\n",
        "library(janitor)\n",
        "library(readxl)\n",
        "\n",
        "# ambil data mds\n",
        "df = read_excel(nama_file_utama,sheet = nama_sheet)\n",
        "\n",
        "nama_kol    = colnames(df)\n",
        "batas_akhir = which(nama_kol == \"Klasifikasi Customer\")\n",
        "\n",
        "id_penting  = 1:batas_akhir\n",
        "kol_penting = nama_kol[id_penting]\n",
        "\n",
        "df_1 = df |> select(all_of(kol_penting))\n",
        "\n",
        "kol_penting = nama_kol[2:batas_akhir]\n",
        "df_2 =\n",
        "  df |>\n",
        "  select(-all_of(kol_penting)) |>\n",
        "  reshape2::melt(id.vars = \"ID\") |>\n",
        "  mutate(variable = as.character(variable)) |>\n",
        "  filter(value != \"N/A\") |>\n",
        "  filter(value != \"Tidak Jual\") |>\n",
        "  rename(\"Products\"      = variable,\n",
        "         \"Status Produk\" = value)\n",
        "\n",
        "df_final =\n",
        "  df_1 |>\n",
        "  merge(df_2) |>\n",
        "  janitor::clean_names() |>\n",
        "  mutate(amount = 0) |>\n",
        "  mutate(brand = case_when(\n",
        "    grepl(\"hi lo\",products,ignore.case = T) ~ \"Hi Lo\",\n",
        "    grepl(\"l-men\",products,ignore.case = T) ~ \"L-Men\",\n",
        "    grepl(\"ns\",products,ignore.case = T) ~ \"NutriSari\",\n",
        "    grepl(\"ts\",products,ignore.case = T) ~ \"Tropicana Slim\",\n",
        "    grepl(\"hi lo\",products,ignore.case = T) ~ \"Hi Lo\"\n",
        "  )) |>\n",
        "  select(tanggal,nama_mds_spg,region,klasifikasi_customer,customer_name,customer_code,\n",
        "         products,amount,status_produk,brand,divisi)\n",
        "\n",
        "colnames(df_final) = c(\"Submission Date\",\"Pic\",\"Area\",\"Klasifikasi Customer\",\"Customer Name\",\n",
        "                       \"Customer Code\",\"Products\",\"Amount\",\"Status Produk\",\"Brand\",\"DIV\")\n",
        "\n",
        "openxlsx::write.xlsx(df_final,file = \"MDS Converted.xlsx\",overwrite = T)"
      ]
    },
    {
      "cell_type": "code",
      "execution_count": null,
      "metadata": {
        "id": "t3ojK2PG0Rsz",
        "cellView": "form",
        "colab": {
          "base_uri": "https://localhost:8080/"
        },
        "outputId": "b2b4694d-47f2-4686-b229-3412e4328c69"
      },
      "outputs": [
        {
          "output_type": "stream",
          "name": "stdout",
          "text": [
            "[1] \"PROSES SELESAI\"\n",
            "[1] \"file hasil konversi tersimpan dalam nama: MDS Converted.xlsx\"\n"
          ]
        }
      ],
      "source": [
        "#@title Status\n",
        "print(\"PROSES SELESAI\")\n",
        "print(\"file hasil konversi tersimpan dalam nama: MDS Converted.xlsx\")"
      ]
    }
  ],
  "metadata": {
    "colab": {
      "provenance": [],
      "include_colab_link": true
    },
    "kernelspec": {
      "display_name": "R",
      "name": "ir"
    },
    "language_info": {
      "name": "R"
    }
  },
  "nbformat": 4,
  "nbformat_minor": 0
}