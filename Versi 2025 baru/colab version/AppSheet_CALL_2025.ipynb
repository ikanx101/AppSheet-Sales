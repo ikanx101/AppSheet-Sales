{
  "cells": [
    {
      "cell_type": "markdown",
      "metadata": {
        "id": "view-in-github",
        "colab_type": "text"
      },
      "source": [
        "<a href=\"https://colab.research.google.com/github/ikanx101/AppSheet-Sales/blob/main/AppSheet_CALL_2025.ipynb\" target=\"_parent\"><img src=\"https://colab.research.google.com/assets/colab-badge.svg\" alt=\"Open In Colab\"/></a>"
      ]
    },
    {
      "cell_type": "markdown",
      "metadata": {
        "id": "VdFqFv39znIR"
      },
      "source": [
        "# _AppSheet Converter_ 2025 untuk __CALL__\n",
        "\n",
        "_Converter_ ini dibuat untuk mengubah data hasil _input_ __AppSheet: Call__ ke bentuk tabular yang lebih _excel-user-friendly_.\n",
        "\n",
        "\n",
        "__Cara pakai:__\n",
        "\n",
        "1. Klik tombol `Connect` pada pojok kanan atas untuk menyalakan _server cloud Google Colab_.\n",
        "1. _Upload_ dua _files_ yang dibutuhkan, yakni:\n",
        "    - Data __AppSheet: Call__. Nama _sheet_ tempat data yang hendak dikonversi: `Merchandise`. Diharapkan penamaan _sheet_ ini __tidak berubah__.\n",
        "    - Data _master item_.\n",
        "1. Klik `Runtime` >> `Run all`.\n",
        "1. Tunggu hingga proses selesai (sampai muncul pesan `PROSES SELESAI`). Kira-kira akan memakan waktu sekitar 5 menit.\n",
        "1. Silakan _download file_ hasil konversi.\n",
        "\n",
        "__Keterangan__: Nama _files_ yang di-_upload_ bebas tidak ditentukan tapi nama _sheet_ yang hendak dikonversi harus bernama `Merchandise`.\n",
        "\n",
        "Catatan: Karena yang kita gunakan saat ini adalah _server_ gratisnya Google, jadi kita harus selalu _install_ beberapa _packages_ setiap kali _run_ skrip ini. Konsekuensinya _runtime_-nya lebih lama.\n",
        "\n",
        "_Last Update_: 17 Juni 2025"
      ]
    },
    {
      "cell_type": "code",
      "execution_count": null,
      "metadata": {
        "colab": {
          "base_uri": "https://localhost:8080/",
          "height": 1000
        },
        "id": "8BIIGP7lzHsE",
        "outputId": "c72da52c-36f5-4334-85de-8fc54aff78dd",
        "cellView": "form"
      },
      "outputs": [
        {
          "output_type": "display_data",
          "data": {
            "text/html": [
              "<table class=\"dataframe\">\n",
              "<caption>A matrix: 2 × 6 of type dbl</caption>\n",
              "<thead>\n",
              "\t<tr><th></th><th scope=col>used</th><th scope=col>(Mb)</th><th scope=col>gc trigger</th><th scope=col>(Mb)</th><th scope=col>max used</th><th scope=col>(Mb)</th></tr>\n",
              "</thead>\n",
              "<tbody>\n",
              "\t<tr><th scope=row>Ncells</th><td> 658707</td><td>35.2</td><td>1454352</td><td>77.7</td><td>1402828</td><td>75.0</td></tr>\n",
              "\t<tr><th scope=row>Vcells</th><td>1227311</td><td> 9.4</td><td>8388608</td><td>64.0</td><td>1975093</td><td>15.1</td></tr>\n",
              "</tbody>\n",
              "</table>\n"
            ],
            "text/markdown": "\nA matrix: 2 × 6 of type dbl\n\n| <!--/--> | used | (Mb) | gc trigger | (Mb) | max used | (Mb) |\n|---|---|---|---|---|---|---|\n| Ncells |  658707 | 35.2 | 1454352 | 77.7 | 1402828 | 75.0 |\n| Vcells | 1227311 |  9.4 | 8388608 | 64.0 | 1975093 | 15.1 |\n\n",
            "text/latex": "A matrix: 2 × 6 of type dbl\n\\begin{tabular}{r|llllll}\n  & used & (Mb) & gc trigger & (Mb) & max used & (Mb)\\\\\n\\hline\n\tNcells &  658707 & 35.2 & 1454352 & 77.7 & 1402828 & 75.0\\\\\n\tVcells & 1227311 &  9.4 & 8388608 & 64.0 & 1975093 & 15.1\\\\\n\\end{tabular}\n",
            "text/plain": [
              "       used    (Mb) gc trigger (Mb) max used (Mb)\n",
              "Ncells  658707 35.2 1454352    77.7 1402828  75.0\n",
              "Vcells 1227311  9.4 8388608    64.0 1975093  15.1"
            ]
          },
          "metadata": {}
        },
        {
          "output_type": "stream",
          "name": "stderr",
          "text": [
            "Loading required package: readxl\n",
            "\n",
            "Loading required package: reshape2\n",
            "\n",
            "Warning message in library(package, lib.loc = lib.loc, character.only = TRUE, logical.return = TRUE, :\n",
            "“there is no package called ‘reshape2’”\n",
            "Installing package into ‘/usr/local/lib/R/site-library’\n",
            "(as ‘lib’ is unspecified)\n",
            "\n",
            "also installing the dependency ‘plyr’\n",
            "\n",
            "\n",
            "Loading required package: janitor\n",
            "\n",
            "Warning message in library(package, lib.loc = lib.loc, character.only = TRUE, logical.return = TRUE, :\n",
            "“there is no package called ‘janitor’”\n",
            "Installing package into ‘/usr/local/lib/R/site-library’\n",
            "(as ‘lib’ is unspecified)\n",
            "\n",
            "also installing the dependency ‘snakecase’\n",
            "\n",
            "\n",
            "\n",
            "Attaching package: ‘janitor’\n",
            "\n",
            "\n",
            "The following objects are masked from ‘package:stats’:\n",
            "\n",
            "    chisq.test, fisher.test\n",
            "\n",
            "\n",
            "Loading required package: openxlsx\n",
            "\n",
            "Warning message in library(package, lib.loc = lib.loc, character.only = TRUE, logical.return = TRUE, :\n",
            "“there is no package called ‘openxlsx’”\n",
            "Installing package into ‘/usr/local/lib/R/site-library’\n",
            "(as ‘lib’ is unspecified)\n",
            "\n",
            "Loading required package: expss\n",
            "\n",
            "Warning message in library(package, lib.loc = lib.loc, character.only = TRUE, logical.return = TRUE, :\n",
            "“there is no package called ‘expss’”\n",
            "Installing package into ‘/usr/local/lib/R/site-library’\n",
            "(as ‘lib’ is unspecified)\n",
            "\n",
            "also installing the dependencies ‘checkmate’, ‘maditr’, ‘htmlTable’, ‘matrixStats’\n",
            "\n",
            "\n",
            "Loading required package: maditr\n",
            "\n",
            "\n",
            "To aggregate several columns with one summary: take(mtcars, mpg, hp, fun = mean, by = am)\n",
            "\n",
            "\n",
            "\n",
            "Attaching package: ‘maditr’\n",
            "\n",
            "\n",
            "The following objects are masked from ‘package:reshape2’:\n",
            "\n",
            "    dcast, melt\n",
            "\n",
            "\n"
          ]
        }
      ],
      "source": [
        "                #@title Masukkan Nama Files\n",
        "\n",
        "rm(list=ls())\n",
        "gc()\n",
        "\n",
        "nama_file_call   <- \"Call.xlsx\" #@param {type:\"string\"}\n",
        "nama_file_master <- \"Master Item.xlsx\" #@param {type:\"string\"}\n",
        "\n",
        "if(!require(readxl)){\n",
        "  install.packages(\"readxl\")\n",
        "  library(readxl)\n",
        "}\n",
        "if(!require(reshape2)){\n",
        "  install.packages(\"reshape2\")\n",
        "  library(reshape2)\n",
        "}\n",
        "if(!require(janitor)){\n",
        "  install.packages(\"janitor\")\n",
        "  library(janitor)\n",
        "}\n",
        "if(!require(openxlsx)){\n",
        "  install.packages(\"openxlsx\")\n",
        "  library(openxlsx)\n",
        "}\n",
        "if(!require(expss)){\n",
        "  install.packages(\"expss\")\n",
        "  library(expss)\n",
        "}"
      ]
    },
    {
      "cell_type": "code",
      "execution_count": null,
      "metadata": {
        "id": "SS-EEdra0bjG",
        "colab": {
          "base_uri": "https://localhost:8080/"
        },
        "outputId": "c79cfd65-ddd9-4ee1-f8b1-659b127e8284",
        "cellView": "form"
      },
      "outputs": [
        {
          "output_type": "stream",
          "name": "stderr",
          "text": [
            "\n",
            "Attaching package: ‘dplyr’\n",
            "\n",
            "\n",
            "The following objects are masked from ‘package:expss’:\n",
            "\n",
            "    compute, contains, na_if, recode, vars, where\n",
            "\n",
            "\n",
            "The following objects are masked from ‘package:maditr’:\n",
            "\n",
            "    between, coalesce, first, last\n",
            "\n",
            "\n",
            "The following objects are masked from ‘package:stats’:\n",
            "\n",
            "    filter, lag\n",
            "\n",
            "\n",
            "The following objects are masked from ‘package:base’:\n",
            "\n",
            "    intersect, setdiff, setequal, union\n",
            "\n",
            "\n",
            "\n",
            "Attaching package: ‘tidyr’\n",
            "\n",
            "\n",
            "The following objects are masked from ‘package:expss’:\n",
            "\n",
            "    contains, nest\n",
            "\n",
            "\n",
            "The following object is masked from ‘package:reshape2’:\n",
            "\n",
            "    smiths\n",
            "\n",
            "\n"
          ]
        }
      ],
      "source": [
        "# @title\n",
        "# libraries yang dibutuhkan\n",
        "library(dplyr)\n",
        "library(tidyr)\n",
        "library(openxlsx)\n",
        "library(janitor)\n",
        "library(readxl)\n",
        "library(expss)\n",
        "\n",
        "# ==============================================================================\n",
        "# kita mengambil master data item\n",
        "# ===========================================================\n",
        "# converter pertama\n",
        " # extract data target utama\n",
        "  sht  = \"Merchandise\"\n",
        "  df   = read_excel(nama_file_call,\n",
        "                    sheet = sht,col_types = \"text\")\n",
        "\n",
        "  nama_kol    = colnames(df)\n",
        "  batas_akhir = which(nama_kol == \"Durasi\")\n",
        "\n",
        "  # kita save dulu variabel yang baru\n",
        "  df_baru =\n",
        "    df %>%\n",
        "    select(`ID Merch`,`Firestart NS`,`Firestart Hilo`,`Status Sekolah`) %>%\n",
        "    mutate(`Tipe Transaksi` = \"AV\") %>%\n",
        "    relocate(`Tipe Transaksi`,.after = `ID Merch`)\n",
        "\n",
        "  id_penting  = 1:batas_akhir\n",
        "  kol_penting = nama_kol[id_penting]\n",
        "\n",
        "  df_1 = df |> select(all_of(kol_penting))\n",
        "\n",
        "  kol_penting = nama_kol[2:batas_akhir]\n",
        "  df_2 =\n",
        "    df |>\n",
        "    select(-all_of(kol_penting)) |>\n",
        "    reshape2::melt(id.vars = \"ID Merch\") |>\n",
        "    filter(!grepl(\"sku|tier|fire|status\",variable,ignore.case = T)) |>\n",
        "    mutate(variable = as.character(variable)) |>\n",
        "    rename(\"Nama Item\" = variable,\n",
        "           Status      = value)\n",
        "\n",
        "  # ambil master item\n",
        "  df_master =\n",
        "    read_excel(nama_file_master) |>\n",
        "    janitor::clean_names() |>\n",
        "    select(item_group,category,brand) |>\n",
        "    rename(\"Nama Item\" = item_group,\n",
        "           Brand       = brand,\n",
        "           Category    = category)\n",
        "\n",
        "  df_3 = df_2 |> merge(df_master,all.x = T)\n",
        "\n",
        "  # ini adalah df_final nya\n",
        "  df_final =\n",
        "    df_1 |>\n",
        "    merge(df_3) |>\n",
        "    relocate(Brand,.after = \"Durasi\") |>\n",
        "    relocate(Category,.after = \"Brand\") |>\n",
        "    relocate(`Nama Item`,.after = \"Category\") |>\n",
        "    # revisi 7 maret\n",
        "    filter(!Status %in% c(\"Tidak Jual\")) |>\n",
        "    filter(Status != \"<NA>\")\n",
        "\n",
        "  df_final = df_final |> merge(df_baru)\n",
        "\n",
        "  df_final$Tanggal = as.Date(as.numeric(df_final$Tanggal),\n",
        "                             origin = \"1900-01-01\")\n",
        "  df_final$Tanggal = df_final$Tanggal - 2\n",
        "\n",
        "  # sekarang kita akan pecah ya\n",
        "  marker      = nrow(df_final)\n",
        "  batas_pisah = 10^6\n",
        "\n",
        "  if(marker < batas_pisah){\n",
        "    output = list(df_final)\n",
        "  }\n",
        "  if(marker > batas_pisah){\n",
        "    output_1 = df_final[1:batas_pisah,]\n",
        "    output_2 = df_final[(batas_pisah + 1):marker,]\n",
        "    output   = list(output_1,output_2)\n",
        "  }\n",
        "\n",
        "data_jatim = output\n",
        "wb <- createWorkbook()\n",
        "\n",
        "for(ikanx in 1:length(data_jatim)){\n",
        "  sh = addWorksheet(wb, paste0(\"Sheet \",ikanx))\n",
        "  xl_write(data_jatim[ikanx], wb, sh)\n",
        "}\n",
        "\n",
        "# Menyimpan workbook ke file\n",
        "saveWorkbook(wb, file = \"Appsheet_converted.xlsx\",overwrite = T)"
      ]
    },
    {
      "cell_type": "code",
      "execution_count": null,
      "metadata": {
        "id": "t3ojK2PG0Rsz",
        "cellView": "form",
        "colab": {
          "base_uri": "https://localhost:8080/"
        },
        "outputId": "9aa5f6a0-8f5b-4d6a-e2b7-49f55f206e8f"
      },
      "outputs": [
        {
          "output_type": "stream",
          "name": "stdout",
          "text": [
            "[1] \"PROSES SELESAI\"\n",
            "[1] \"file hasil konversi tersimpan dalam nama: Apsheet_converted.xlsx\"\n"
          ]
        }
      ],
      "source": [
        "#@title Status\n",
        "print(\"PROSES SELESAI\")\n",
        "print(\"file hasil konversi tersimpan dalam nama: Apsheet_converted.xlsx\")"
      ]
    }
  ],
  "metadata": {
    "colab": {
      "provenance": [],
      "include_colab_link": true
    },
    "kernelspec": {
      "display_name": "R",
      "name": "ir"
    },
    "language_info": {
      "name": "R"
    }
  },
  "nbformat": 4,
  "nbformat_minor": 0
}