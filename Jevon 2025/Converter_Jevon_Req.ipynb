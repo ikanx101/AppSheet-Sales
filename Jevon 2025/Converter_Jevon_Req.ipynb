{
  "nbformat": 4,
  "nbformat_minor": 0,
  "metadata": {
    "colab": {
      "provenance": [],
      "authorship_tag": "ABX9TyNVEdO9i151HroWvdquzbG3",
      "include_colab_link": true
    },
    "kernelspec": {
      "name": "ir",
      "display_name": "R"
    },
    "language_info": {
      "name": "R"
    }
  },
  "cells": [
    {
      "cell_type": "markdown",
      "metadata": {
        "id": "view-in-github",
        "colab_type": "text"
      },
      "source": [
        "<a href=\"https://colab.research.google.com/github/ikanx101/AppSheet-Sales/blob/main/Converter_Jevon_Req.ipynb\" target=\"_parent\"><img src=\"https://colab.research.google.com/assets/colab-badge.svg\" alt=\"Open In Colab\"/></a>"
      ]
    },
    {
      "cell_type": "markdown",
      "source": [
        "# _Converter_ Data Subdistributor\n",
        "\n",
        "_Converter_ ini dibuat untuk mengubah data _output_ dari subdistributor ke bentuk tabular yang lebih _excel-user-friendly_.\n",
        "\n",
        "__Cara pakai:__\n",
        "\n",
        "1. Klik tombol `Connect` pada pojok kanan atas untuk menyalakan _server cloud Google Colab_.\n",
        "1. _Upload file_ yang dibutuhkan, yakni:\n",
        "    - Data subdistributor dengan format yang disarankan adalah `.xlsx`.\n",
        "1. Klik `Runtime` >> `Run all`.\n",
        "1. Tunggu hingga proses selesai (sampai muncul pesan `PROSES SELESAI`). Kira-kira akan memakan waktu sekitar 5 menit.\n",
        "1. Silakan _download file_ hasil konversi.\n",
        "\n",
        "__Keterangan__: Nama _file_ yang di-_upload_ bebas tidak ditentukan tapi disarankan satu _file_ hanya berisi **satu _sheet_ saja**.\n",
        "\n",
        "Catatan: Karena yang kita gunakan saat ini adalah _server_ gratisnya Google, jadi kita harus selalu _install_ beberapa _packages_ setiap kali _run_ skrip ini. Konsekuensinya _runtime_-nya lebih lama.\n",
        "\n",
        "_Last Update_: 30 Oktober 2025\n"
      ],
      "metadata": {
        "id": "QRkc7Of6xIIg"
      }
    },
    {
      "cell_type": "code",
      "execution_count": null,
      "metadata": {
        "colab": {
          "base_uri": "https://localhost:8080/",
          "height": 129
        },
        "cellView": "form",
        "id": "s0yrWM-HemLV",
        "outputId": "3c3ece1b-a0ab-4854-e939-8dabd52392f6"
      },
      "outputs": [
        {
          "output_type": "display_data",
          "data": {
            "text/html": [
              "<table class=\"dataframe\">\n",
              "<caption>A matrix: 2 × 6 of type dbl</caption>\n",
              "<thead>\n",
              "\t<tr><th></th><th scope=col>used</th><th scope=col>(Mb)</th><th scope=col>gc trigger</th><th scope=col>(Mb)</th><th scope=col>max used</th><th scope=col>(Mb)</th></tr>\n",
              "</thead>\n",
              "<tbody>\n",
              "\t<tr><th scope=row>Ncells</th><td>1219073</td><td>65.2</td><td>1956650</td><td>104.5</td><td>1956650</td><td>104.5</td></tr>\n",
              "\t<tr><th scope=row>Vcells</th><td>2230594</td><td>17.1</td><td>8388608</td><td> 64.0</td><td>7312588</td><td> 55.8</td></tr>\n",
              "</tbody>\n",
              "</table>\n"
            ],
            "text/markdown": "\nA matrix: 2 × 6 of type dbl\n\n| <!--/--> | used | (Mb) | gc trigger | (Mb) | max used | (Mb) |\n|---|---|---|---|---|---|---|\n| Ncells | 1219073 | 65.2 | 1956650 | 104.5 | 1956650 | 104.5 |\n| Vcells | 2230594 | 17.1 | 8388608 |  64.0 | 7312588 |  55.8 |\n\n",
            "text/latex": "A matrix: 2 × 6 of type dbl\n\\begin{tabular}{r|llllll}\n  & used & (Mb) & gc trigger & (Mb) & max used & (Mb)\\\\\n\\hline\n\tNcells & 1219073 & 65.2 & 1956650 & 104.5 & 1956650 & 104.5\\\\\n\tVcells & 2230594 & 17.1 & 8388608 &  64.0 & 7312588 &  55.8\\\\\n\\end{tabular}\n",
            "text/plain": [
              "       used    (Mb) gc trigger (Mb)  max used (Mb) \n",
              "Ncells 1219073 65.2 1956650    104.5 1956650  104.5\n",
              "Vcells 2230594 17.1 8388608     64.0 7312588   55.8"
            ]
          },
          "metadata": {}
        }
      ],
      "source": [
        "# @title\n",
        "if(!require(readxl)){\n",
        "  install.packages(\"readxl\")\n",
        "  library(readxl)\n",
        "}\n",
        "if(!require(janitor)){\n",
        "  install.packages(\"janitor\")\n",
        "  library(janitor)\n",
        "}\n",
        "if(!require(janitor)){\n",
        "  install.packages(\"tidyr\")\n",
        "  library(tidyr)\n",
        "}\n",
        "if(!require(openxlsx)){\n",
        "  install.packages(\"openxlsx\")\n",
        "  library(openxlsx)\n",
        "}\n",
        "if(!require(stringr)){\n",
        "  install.packages(\"stringr\")\n",
        "  library(stringr)\n",
        "}\n",
        "\n",
        "rm(list=ls())\n",
        "gc()\n",
        "\n",
        "library(readxl)\n",
        "library(dplyr)\n",
        "library(tidyr)\n",
        "library(janitor)\n"
      ]
    },
    {
      "cell_type": "code",
      "source": [
        "#@title Masukkan Nama Files\n",
        "\n",
        "file <- \"X lap penjualan Nutrisari dan Hilo.xlsx\" #@param {type:\"string\"}\n",
        "df   = read_excel(file,col_names = F) %>% clean_names()"
      ],
      "metadata": {
        "colab": {
          "base_uri": "https://localhost:8080/"
        },
        "cellView": "form",
        "id": "KGmxvjmGxCNC",
        "outputId": "e34340aa-f4e2-4c65-e1fb-a2affbc81f16"
      },
      "execution_count": null,
      "outputs": [
        {
          "output_type": "stream",
          "name": "stderr",
          "text": [
            "\u001b[1m\u001b[22mNew names:\n",
            "\u001b[36m•\u001b[39m `` -> `...1`\n",
            "\u001b[36m•\u001b[39m `` -> `...2`\n",
            "\u001b[36m•\u001b[39m `` -> `...3`\n",
            "\u001b[36m•\u001b[39m `` -> `...4`\n",
            "\u001b[36m•\u001b[39m `` -> `...5`\n",
            "\u001b[36m•\u001b[39m `` -> `...6`\n",
            "\u001b[36m•\u001b[39m `` -> `...7`\n",
            "\u001b[36m•\u001b[39m `` -> `...8`\n",
            "\u001b[36m•\u001b[39m `` -> `...9`\n",
            "\u001b[36m•\u001b[39m `` -> `...10`\n",
            "\u001b[36m•\u001b[39m `` -> `...11`\n",
            "\u001b[36m•\u001b[39m `` -> `...12`\n",
            "\u001b[36m•\u001b[39m `` -> `...13`\n"
          ]
        }
      ]
    },
    {
      "cell_type": "code",
      "source": [
        "# @title\n",
        "# ==============================================================================\n",
        "# tahap 2\n",
        "# berikutnya kita akan pilah-pilah tabelnya\n",
        "# caranya dengan mengecek ada di mana saja tabelnya\n",
        "\n",
        "# kita cek dulu tabel header ada di mana saja\n",
        "marker_1 = (1:nrow(df))[which(grepl(\"customer\",df$x2,ignore.case = T))]\n",
        "# karena yang akhir gak ada pasangan, kita tambahin manual\n",
        "marker_1 = c(marker_1,nrow(df))\n",
        "\n",
        "# Fungsi untuk generate angka antara dua nilai\n",
        "generate_angka_antara <- function(start, end) {\n",
        "  if (end - start <= 1) {\n",
        "    return(NULL)\n",
        "  }\n",
        "  seq(from = start, to = end - 1, by = 1)\n",
        "}\n",
        "\n",
        "# Generate angka untuk setiap pasangan berurutan\n",
        "hasil_generate <- list()\n",
        "\n",
        "for (i in 1:(length(marker_1) - 1)) {\n",
        "  start <- marker_1[i]\n",
        "  end <- marker_1[i + 1]\n",
        "\n",
        "  # Generate angka antara start dan end\n",
        "  angka_antara <- generate_angka_antara(start, end)\n",
        "\n",
        "  if (!is.null(angka_antara)) {\n",
        "    hasil_generate[[paste0(\"marker[\", i, \"] - marker[\", i + 1, \"]\")]] <- angka_antara\n",
        "  }\n",
        "}\n",
        "# ==============================================================================\n",
        "\n",
        "\n",
        "# ==============================================================================\n",
        "# tahap 3\n",
        "# kita pisahkan tabelnya\n",
        "rumah_kita = list()\n",
        "for(ikanx in 1:length(hasil_generate)){\n",
        "  # ambil tabel\n",
        "  temp = df[hasil_generate[[ikanx]],]\n",
        "  # ambil nama customer\n",
        "  nama_customer = temp$x2[1]\n",
        "  # ambil tabel transaksi\n",
        "  temp = temp %>% filter(!is.na(x4))\n",
        "  # rapihin nama kolomnya\n",
        "  colnames(temp) = temp[1,]\n",
        "  # hapus kolom tak perlu\n",
        "  temp = temp %>% clean_names() %>% filter(unit != \"Unit\")\n",
        "  # tambahin nama costumer\n",
        "  temp = temp %>% mutate(nama_customer)\n",
        "\n",
        "  rumah_kita[[ikanx]] = temp\n",
        "}\n",
        "\n",
        "# kita gabungin untuk dirapikan kembali\n",
        "gabung_tabel = data.table::rbindlist(rumah_kita) %>% as.data.frame()\n",
        "# ==============================================================================\n",
        "\n",
        "\n",
        "# ==============================================================================\n",
        "# tahap 4\n",
        "# kita benerin nama toko dan kode toko\n",
        "# trus kita rapihin tabelnya\n",
        "hasil_akhir =\n",
        "  gabung_tabel %>%\n",
        "  mutate(nama_customer = gsub(\"CUSTOMER : \",\"\",nama_customer,fixed = T)) %>%\n",
        "  mutate(nama_toko = stringr::str_squish(nama_customer)) %>%\n",
        "  separate(nama_customer,\n",
        "           into = c(\"hapus\",\"kode_toko\"),\n",
        "           sep = \"\\\\(\") %>%\n",
        "  mutate(kode_toko = gsub(\"\\\\)\",\"\",kode_toko)) %>%\n",
        "  select(-hapus) %>%\n",
        "  mutate(no_faktur = NA,\n",
        "         bln_faktur = NA,\n",
        "         tgl_faktur = NA,\n",
        "         alamat_toko = NA,\n",
        "         nama_salesman = NA,\n",
        "         jenis_faktur = \"PENJUALAN\",\n",
        "         hrg_satuan = NA,\n",
        "         disc_total = NA) %>%\n",
        "  mutate(brand = case_when(\n",
        "    grepl(\"NS|nutri|sari\",product_name,ignore.case = T) ~ \"NS\",\n",
        "    grepl(\"hilo|hi lo|hl\",product_name,ignore.case = T) ~ \"HiLo\",\n",
        "    grepl(\"ts|tropica\",product_name,ignore.case = T) ~ \"TS\",\n",
        "    grepl(\"lmen|l men|l-men\",product_name,ignore.case = T) ~ \"LMen\"\n",
        "  )) %>%\n",
        "  rename(kode_item = product_id,\n",
        "         nama_item = product_name,\n",
        "         qty_barang = qty_amount,\n",
        "         satuan = unit,\n",
        "         disc_satuan = discount,\n",
        "         total_net = total_invoice) %>%\n",
        "  select(no_faktur,bln_faktur,tgl_faktur,kode_toko,nama_toko,alamat_toko,\n",
        "         nama_salesman,kode_item,nama_item,qty_barang,satuan,\n",
        "         hrg_satuan,disc_satuan,disc_total,total_net,brand,jenis_faktur)\n",
        "\n",
        "openxlsx::write.xlsx(hasil_akhir,file = \"converted.xlsx\")\n",
        "print(\"PROSES SELESAI\")\n",
        "# =============================================================================="
      ],
      "metadata": {
        "colab": {
          "base_uri": "https://localhost:8080/"
        },
        "cellView": "form",
        "id": "qM7HxLX4z-fA",
        "outputId": "0992f0e8-184c-441f-9707-9eff7e63c18c"
      },
      "execution_count": null,
      "outputs": [
        {
          "output_type": "stream",
          "name": "stdout",
          "text": [
            "[1] \"PROSES SELESAI\"\n"
          ]
        }
      ]
    }
  ]
}